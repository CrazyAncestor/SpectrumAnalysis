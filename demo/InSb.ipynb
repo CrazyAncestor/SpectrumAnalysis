{
 "cells": [
  {
   "cell_type": "code",
   "execution_count": 1,
   "id": "cebb8307",
   "metadata": {},
   "outputs": [],
   "source": [
    "from SpectrumAnalysis.io import process_data_zip"
   ]
  },
  {
   "cell_type": "code",
   "execution_count": 2,
   "id": "56695b2e",
   "metadata": {},
   "outputs": [
    {
     "name": "stdout",
     "output_type": "stream",
     "text": [
      "Please select the FITS file to add as HDU (press 's' to skip adding hdu, 'e' to end) 'REF1':\n",
      "0: preprocessed_data\\Polarizer_35deg_THz_pulse_InSb_70K.fits\n",
      "You selected: preprocessed_data\\Polarizer_35deg_THz_pulse_InSb_70K.fits\n",
      "HDU 'REF1' added successfully.\n",
      "Please select the FITS file to add as HDU (press 's' to skip adding hdu, 'e' to end) 'SAMPLE1':\n",
      "0: preprocessed_data\\Polarizer_35deg_THz_pulse_InSb_70K.fits\n",
      "You selected: preprocessed_data\\Polarizer_35deg_THz_pulse_InSb_70K.fits\n",
      "HDU 'SAMPLE1' added successfully.\n",
      "Please select the FITS file to add as HDU (press 's' to skip adding hdu, 'e' to end) 'REF2':\n",
      "0: preprocessed_data\\Polarizer_35deg_THz_pulse_InSb_70K.fits\n",
      "You selected: preprocessed_data\\Polarizer_35deg_THz_pulse_InSb_70K.fits\n",
      "HDU 'REF2' added successfully.\n",
      "Please select the FITS file to add as HDU (press 's' to skip adding hdu, 'e' to end) 'SAMPLE2':\n",
      "0: preprocessed_data\\Polarizer_35deg_THz_pulse_InSb_70K.fits\n",
      "You selected: preprocessed_data\\Polarizer_35deg_THz_pulse_InSb_70K.fits\n",
      "HDU 'SAMPLE2' added successfully.\n",
      "Please select the FITS file to add as HDU (press 's' to skip adding hdu, 'e' to end) 'REF3':\n",
      "0: preprocessed_data\\Polarizer_35deg_THz_pulse_InSb_70K.fits\n",
      "Ending the addition of HDU.\n"
     ]
    }
   ],
   "source": [
    "process_data_zip(zip_path='5_5.zip', metadata_filename = '35deg_InSb_70K.fits',raw_data_dir='raw_data',preprocessed_data_dir='preprocessed_data')"
   ]
  },
  {
   "cell_type": "code",
   "execution_count": 4,
   "id": "f3c65cce",
   "metadata": {},
   "outputs": [
    {
     "name": "stdout",
     "output_type": "stream",
     "text": [
      "Please select the FITS file to add as HDU (press 's' to skip adding hdu, 'e' to end) 'REF1':\n",
      "0: preprocessed_data\\Polarizer_125deg_THz_pulse_Aperture.fits\n",
      "1: preprocessed_data\\test2.fits\n",
      "2: preprocessed_data\\test3_reinforce_foam.fits\n",
      "3: preprocessed_data\\test.fits\n",
      "4: preprocessed_data\\Polarizer_125deg_THz_pulse_InSb_70K.fits\n",
      "Skipping the addition of HDU.\n",
      "Please select the FITS file to add as HDU (press 's' to skip adding hdu, 'e' to end) 'SAMPLE1':\n",
      "0: preprocessed_data\\Polarizer_125deg_THz_pulse_Aperture.fits\n",
      "1: preprocessed_data\\test2.fits\n",
      "2: preprocessed_data\\test3_reinforce_foam.fits\n",
      "3: preprocessed_data\\test.fits\n",
      "4: preprocessed_data\\Polarizer_125deg_THz_pulse_InSb_70K.fits\n",
      "Ending the addition of HDU.\n"
     ]
    }
   ],
   "source": [
    "process_data_zip(zip_path='5_6.zip', metadata_filename = '125deg_InSb_70K.fits',raw_data_dir='raw_data',preprocessed_data_dir='preprocessed_data')"
   ]
  },
  {
   "cell_type": "code",
   "execution_count": 6,
   "id": "e3b72c27",
   "metadata": {},
   "outputs": [
    {
     "name": "stdout",
     "output_type": "stream",
     "text": [
      "Filename: ./35deg_InSb_70K.fits\n",
      "No.    Name      Ver    Type      Cards   Dimensions   Format\n",
      "  0  PRIMARY       1 PrimaryHDU       4   ()      \n",
      "  1  REF1          1 ImageHDU        24   (11, 500, 6)   float64   \n",
      "  2  SAMPLE1       1 ImageHDU        24   (11, 500, 6)   float64   \n",
      "  3  REF2          1 ImageHDU        24   (11, 500, 6)   float64   \n",
      "  4  SAMPLE2       1 ImageHDU        24   (11, 500, 6)   float64   \n",
      "HDU names: None\n",
      "Header: XTENSION= 'IMAGE   '           / Image extension                                BITPIX  =                  -64 / array data type                                NAXIS   =                    3 / number of array dimensions                     NAXIS1  =                   11                                                  NAXIS2  =                  500                                                  NAXIS3  =                    6                                                  PCOUNT  =                    0 / number of parameters                           GCOUNT  =                    1 / number of groups                               DATE    = '2025_05_05'                                                          AUTHOR  = 'Albert_Wu'                                                           POWER   =                0.434                                                  STEPFS  =                   50                                                  STARTPS =                  -58                                                  DELAYMS =                  500                                                  FILENAME= 'Polarizer_35deg_THz_pulse_InSb_70K'                                  N_BFIELD=                    6                                                  B0      =                  0.0                                                  B1      =                  0.2                                                  B2      =                  0.4                                                  B3      =                  0.6                                                  B4      =                  0.8                                                  B5      =                  1.0                                                  EXTNAME = 'REF1    '           / extension name                                 HDU_TYPE= 'REF1    '                                                            END                                                                                                                                                                                                                                                                                                                                                                                                                                                                                                                                                                                                                                                                                                                                                                                                                                                                                                                                                                                             \n",
      "Data shape: (6, 500, 11)\n"
     ]
    },
    {
     "name": "stderr",
     "output_type": "stream",
     "text": [
      "WARNING: Flush for 'readonly' mode is not supported. [astropy.io.fits.hdu.hdulist]\n"
     ]
    }
   ],
   "source": [
    "from astropy.io import fits\n",
    "import numpy as np\n",
    "with fits.open('./35deg_InSb_70K.fits') as hdul:\n",
    "    # Print the names of the HDUs in the file\n",
    "    print(\"HDU names:\", hdul.info())\n",
    "    \n",
    "    # Access the data in the first HDU\n",
    "    data = hdul[1].data.copy()\n",
    "    header = hdul[1].header.copy()\n",
    "    print(\"Header:\", header)\n",
    "    print(\"Data shape:\", data.shape)\n",
    "    hdul.flush()\n",
    "\n"
   ]
  },
  {
   "cell_type": "code",
   "execution_count": 5,
   "id": "e15524d0",
   "metadata": {},
   "outputs": [
    {
     "name": "stdout",
     "output_type": "stream",
     "text": [
      "Filename: ./125deg_InSb_70K.fits\n",
      "No.    Name      Ver    Type      Cards   Dimensions   Format\n",
      "  0  PRIMARY       1 PrimaryHDU       4   ()      \n",
      "HDU names: None\n"
     ]
    },
    {
     "ename": "IndexError",
     "evalue": "list index out of range",
     "output_type": "error",
     "traceback": [
      "\u001b[31m---------------------------------------------------------------------------\u001b[39m",
      "\u001b[31mIndexError\u001b[39m                                Traceback (most recent call last)",
      "\u001b[36mCell\u001b[39m\u001b[36m \u001b[39m\u001b[32mIn[5]\u001b[39m\u001b[32m, line 8\u001b[39m\n\u001b[32m      5\u001b[39m \u001b[38;5;28mprint\u001b[39m(\u001b[33m\"\u001b[39m\u001b[33mHDU names:\u001b[39m\u001b[33m\"\u001b[39m, hdul.info())\n\u001b[32m      7\u001b[39m \u001b[38;5;66;03m# Access the data in the first HDU\u001b[39;00m\n\u001b[32m----> \u001b[39m\u001b[32m8\u001b[39m data = \u001b[43mhdul\u001b[49m\u001b[43m[\u001b[49m\u001b[32;43m1\u001b[39;49m\u001b[43m]\u001b[49m.data.copy()\n\u001b[32m      9\u001b[39m header = hdul[\u001b[32m1\u001b[39m].header.copy()\n\u001b[32m     10\u001b[39m \u001b[38;5;28mprint\u001b[39m(\u001b[33m\"\u001b[39m\u001b[33mHeader:\u001b[39m\u001b[33m\"\u001b[39m, header)\n",
      "\u001b[36mFile \u001b[39m\u001b[32m~\\AppData\\Local\\Packages\\PythonSoftwareFoundation.Python.3.11_qbz5n2kfra8p0\\LocalCache\\local-packages\\Python311\\site-packages\\astropy\\io\\fits\\hdu\\hdulist.py:385\u001b[39m, in \u001b[36mHDUList.__getitem__\u001b[39m\u001b[34m(self, key)\u001b[39m\n\u001b[32m    382\u001b[39m \u001b[38;5;28;01mexcept\u001b[39;00m \u001b[38;5;167;01mIndexError\u001b[39;00m \u001b[38;5;28;01mas\u001b[39;00m e:\n\u001b[32m    383\u001b[39m     \u001b[38;5;66;03m# Raise a more helpful IndexError if the file was not fully read.\u001b[39;00m\n\u001b[32m    384\u001b[39m     \u001b[38;5;28;01mif\u001b[39;00m \u001b[38;5;28mself\u001b[39m._read_all:\n\u001b[32m--> \u001b[39m\u001b[32m385\u001b[39m         \u001b[38;5;28;01mraise\u001b[39;00m e\n\u001b[32m    386\u001b[39m     \u001b[38;5;28;01melse\u001b[39;00m:\n\u001b[32m    387\u001b[39m         \u001b[38;5;28;01mraise\u001b[39;00m \u001b[38;5;167;01mIndexError\u001b[39;00m(\n\u001b[32m    388\u001b[39m             \u001b[33m\"\u001b[39m\u001b[33mHDU not found, possibly because the index \u001b[39m\u001b[33m\"\u001b[39m\n\u001b[32m    389\u001b[39m             \u001b[33m\"\u001b[39m\u001b[33mis out of range, or because the file was \u001b[39m\u001b[33m\"\u001b[39m\n\u001b[32m    390\u001b[39m             \u001b[33m\"\u001b[39m\u001b[33mclosed before all HDUs were read\u001b[39m\u001b[33m\"\u001b[39m\n\u001b[32m    391\u001b[39m         )\n",
      "\u001b[36mFile \u001b[39m\u001b[32m~\\AppData\\Local\\Packages\\PythonSoftwareFoundation.Python.3.11_qbz5n2kfra8p0\\LocalCache\\local-packages\\Python311\\site-packages\\astropy\\io\\fits\\hdu\\hdulist.py:379\u001b[39m, in \u001b[36mHDUList.__getitem__\u001b[39m\u001b[34m(self, key)\u001b[39m\n\u001b[32m    375\u001b[39m \u001b[38;5;66;03m# Originally this used recursion, but hypothetically an HDU with\u001b[39;00m\n\u001b[32m    376\u001b[39m \u001b[38;5;66;03m# a very large number of HDUs could blow the stack, so use a loop\u001b[39;00m\n\u001b[32m    377\u001b[39m \u001b[38;5;66;03m# instead\u001b[39;00m\n\u001b[32m    378\u001b[39m \u001b[38;5;28;01mtry\u001b[39;00m:\n\u001b[32m--> \u001b[39m\u001b[32m379\u001b[39m     \u001b[38;5;28;01mreturn\u001b[39;00m \u001b[38;5;28;43mself\u001b[39;49m\u001b[43m.\u001b[49m\u001b[43m_try_while_unread_hdus\u001b[49m\u001b[43m(\u001b[49m\n\u001b[32m    380\u001b[39m \u001b[43m        \u001b[49m\u001b[38;5;28;43msuper\u001b[39;49m\u001b[43m(\u001b[49m\u001b[43m)\u001b[49m\u001b[43m.\u001b[49m\u001b[34;43m__getitem__\u001b[39;49m\u001b[43m,\u001b[49m\u001b[43m \u001b[49m\u001b[38;5;28;43mself\u001b[39;49m\u001b[43m.\u001b[49m\u001b[43m_positive_index_of\u001b[49m\u001b[43m(\u001b[49m\u001b[43mkey\u001b[49m\u001b[43m)\u001b[49m\n\u001b[32m    381\u001b[39m \u001b[43m    \u001b[49m\u001b[43m)\u001b[49m\n\u001b[32m    382\u001b[39m \u001b[38;5;28;01mexcept\u001b[39;00m \u001b[38;5;167;01mIndexError\u001b[39;00m \u001b[38;5;28;01mas\u001b[39;00m e:\n\u001b[32m    383\u001b[39m     \u001b[38;5;66;03m# Raise a more helpful IndexError if the file was not fully read.\u001b[39;00m\n\u001b[32m    384\u001b[39m     \u001b[38;5;28;01mif\u001b[39;00m \u001b[38;5;28mself\u001b[39m._read_all:\n",
      "\u001b[36mFile \u001b[39m\u001b[32m~\\AppData\\Local\\Packages\\PythonSoftwareFoundation.Python.3.11_qbz5n2kfra8p0\\LocalCache\\local-packages\\Python311\\site-packages\\astropy\\io\\fits\\hdu\\hdulist.py:1246\u001b[39m, in \u001b[36mHDUList._try_while_unread_hdus\u001b[39m\u001b[34m(self, func, *args, **kwargs)\u001b[39m\n\u001b[32m   1244\u001b[39m \u001b[38;5;28;01mwhile\u001b[39;00m \u001b[38;5;28;01mTrue\u001b[39;00m:\n\u001b[32m   1245\u001b[39m     \u001b[38;5;28;01mtry\u001b[39;00m:\n\u001b[32m-> \u001b[39m\u001b[32m1246\u001b[39m         \u001b[38;5;28;01mreturn\u001b[39;00m \u001b[43mfunc\u001b[49m\u001b[43m(\u001b[49m\u001b[43m*\u001b[49m\u001b[43margs\u001b[49m\u001b[43m,\u001b[49m\u001b[43m \u001b[49m\u001b[43m*\u001b[49m\u001b[43m*\u001b[49m\u001b[43mkwargs\u001b[49m\u001b[43m)\u001b[49m\n\u001b[32m   1247\u001b[39m     \u001b[38;5;28;01mexcept\u001b[39;00m \u001b[38;5;167;01mException\u001b[39;00m:\n\u001b[32m   1248\u001b[39m         \u001b[38;5;28;01mif\u001b[39;00m \u001b[38;5;28mself\u001b[39m._read_next_hdu():\n",
      "\u001b[31mIndexError\u001b[39m: list index out of range"
     ]
    }
   ],
   "source": [
    "from astropy.io import fits\n",
    "import numpy as np\n",
    "with fits.open('./125deg_InSb_70K.fits') as hdul:\n",
    "    # Print the names of the HDUs in the file\n",
    "    print(\"HDU names:\", hdul.info())\n",
    "    \n",
    "    # Access the data in the first HDU\n",
    "    data = hdul[1].data.copy()\n",
    "    header = hdul[1].header.copy()\n",
    "    print(\"Header:\", header)\n",
    "    print(\"Data shape:\", data.shape)\n"
   ]
  },
  {
   "cell_type": "code",
   "execution_count": null,
   "id": "46cf787b",
   "metadata": {},
   "outputs": [],
   "source": [
    "plot_Efields_from_fits('./Polarizer_35deg_THz_pulse_InSb_70K.fits', title=\"E-field vs Time for Aperture 35deg\")"
   ]
  },
  {
   "cell_type": "code",
   "execution_count": null,
   "id": "262ba939",
   "metadata": {},
   "outputs": [],
   "source": [
    "plot_fft_from_fits(\"Polarizer_35deg_THz_pulse_InSb_70K.fits\", time_range=[-58, -45], plot_time_domain=True)"
   ]
  },
  {
   "cell_type": "code",
   "execution_count": null,
   "id": "892b70ab",
   "metadata": {},
   "outputs": [],
   "source": [
    "from SpectrumAnalysis.SpectrumAnalysis import plot_avg_std_from_fits\n",
    "E_field_avg, E_field_std, fft_avg, fft_std, freqs = plot_avg_std_from_fits('Polarizer_35deg_THz_pulse_InSb_70K.fits', time_range=[-58, -45], B_field=1.0)"
   ]
  },
  {
   "cell_type": "code",
   "execution_count": null,
   "id": "ea9cf7c0",
   "metadata": {},
   "outputs": [],
   "source": [
    "import matplotlib.pyplot as plt\n",
    "import numpy as np\n",
    "plt.scatter((fft_avg), fft_std, label='Signal')\n",
    "plt.xlabel('FFT Amplitude (arb. units)')\n",
    "plt.ylabel('S/N Ratio (arb. units)')\n",
    "plt.title('S/N Ratio vs FFT Amplitude')\n",
    "plt.legend()\n",
    "plt.grid()      \n"
   ]
  },
  {
   "cell_type": "code",
   "execution_count": null,
   "id": "f3a1c672",
   "metadata": {},
   "outputs": [],
   "source": [
    "plt.scatter((freqs), fft_avg/fft_std, label='Signal')\n",
    "plt.xlabel('frequency (THz)')\n",
    "plt.ylabel('S/N Ratio (arb. units)')\n",
    "plt.title('S/N Ratio vs FFT frequency')\n",
    "plt.xlim(0, 2.5)\n",
    "plt.legend()\n",
    "plt.grid()      "
   ]
  },
  {
   "cell_type": "code",
   "execution_count": null,
   "id": "19240bce",
   "metadata": {},
   "outputs": [],
   "source": [
    "plt.plot((freqs), fft_avg, label='Signal')\n",
    "plt.xlabel('frequency (THz)')\n",
    "plt.ylabel('FFT Amplitude (arb. units)')\n",
    "plt.title('FFT Amplitude vs FFT frequency')\n",
    "plt.xlim(0, 2.5)\n",
    "plt.legend()\n",
    "plt.grid()      "
   ]
  },
  {
   "cell_type": "code",
   "execution_count": null,
   "id": "8738519e",
   "metadata": {},
   "outputs": [],
   "source": [
    "from SpectrumAnalysis.SpectrumAnalysis import plot_transmission_spectrum\n",
    "plot_transmission_spectrum('./Polarizer_35deg_Aperture.fits', './Polarizer_35deg_InSb_70K.fits', zero_padding_ratio=4.0, freq_range=[0.1, 2])"
   ]
  },
  {
   "cell_type": "code",
   "execution_count": null,
   "id": "59a2880d",
   "metadata": {},
   "outputs": [],
   "source": [
    "from SpectrumAnalysis.SpectrumAnalysis import add_data_value, subtract_data_value\n",
    "add_data_value('Polarizer_35deg_InSb_70K.fits','Polarizer_125deg_InSb_70K.fits', 'Ex_InSb_70K.fits')\n",
    "subtract_data_value('Polarizer_35deg_InSb_70K.fits','Polarizer_125deg_InSb_70K.fits', 'Ey_InSb_70K.fits')"
   ]
  },
  {
   "cell_type": "code",
   "execution_count": null,
   "id": "dcfb925f",
   "metadata": {},
   "outputs": [],
   "source": [
    "from SpectrumAnalysis.SpectrumAnalysis import rotate_angle_vs_major_axis\n",
    "rotate_angle_vs_major_axis(Ex_fits = 'Ex_InSb_70K.fits' , Ey_fits= 'Ey_InSb_70K.fits', angle_in_deg = 80, output_path_major = 'Ex_major_InSb_70K.fits', output_path_minor = 'Ey_minor_InSb_70K.fits')"
   ]
  },
  {
   "cell_type": "code",
   "execution_count": null,
   "id": "d525a0e2",
   "metadata": {},
   "outputs": [],
   "source": [
    "plot_fft_from_fits(\"Ex_major_InSb_70K.fits\", zero_padding_ratio=2.0, plot_time_domain=True, title = \"Ex FFT\")\n",
    "plot_fft_from_fits(\"Ey_minor_InSb_70K.fits\", zero_padding_ratio=2.0, plot_time_domain=True, title = \"Ey FFT\")"
   ]
  }
 ],
 "metadata": {
  "kernelspec": {
   "display_name": "Python 3",
   "language": "python",
   "name": "python3"
  },
  "language_info": {
   "codemirror_mode": {
    "name": "ipython",
    "version": 3
   },
   "file_extension": ".py",
   "mimetype": "text/x-python",
   "name": "python",
   "nbconvert_exporter": "python",
   "pygments_lexer": "ipython3",
   "version": "3.11.9"
  }
 },
 "nbformat": 4,
 "nbformat_minor": 5
}
