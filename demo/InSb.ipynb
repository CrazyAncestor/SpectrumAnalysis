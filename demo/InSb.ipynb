{
 "cells": [
  {
   "cell_type": "code",
   "execution_count": 1,
   "id": "cebb8307",
   "metadata": {},
   "outputs": [],
   "source": [
    "from SpectrumAnalysis.io import process_data_zip"
   ]
  },
  {
   "cell_type": "code",
   "execution_count": 3,
   "id": "56695b2e",
   "metadata": {},
   "outputs": [
    {
     "name": "stdout",
     "output_type": "stream",
     "text": [
      "HDU 'REF1' already exists. Skipping...\n",
      "HDU 'SAMPLE1' already exists. Skipping...\n",
      "HDU 'REF2' already exists. Skipping...\n",
      "HDU 'SAMPLE2' already exists. Skipping...\n",
      "HDU 'REF3' already exists. Skipping...\n",
      "HDU 'SAMPLE3' already exists. Skipping...\n",
      "HDU 'REF4' already exists. Skipping...\n",
      "HDU 'SAMPLE4' already exists. Skipping...\n",
      "HDU 'REF5' already exists. Skipping...\n",
      "HDU 'SAMPLE5' already exists. Skipping...\n",
      "HDU 'REF6' already exists. Skipping...\n",
      "HDU 'SAMPLE6' already exists. Skipping...\n",
      "HDU 'REF7' already exists. Skipping...\n",
      "HDU 'SAMPLE7' already exists. Skipping...\n",
      "HDU 'REF8' already exists. Skipping...\n",
      "HDU 'SAMPLE8' already exists. Skipping...\n",
      "------------------------------\n",
      "Please select the FITS file to add as HDU 'REF9':\n",
      "Press the index number to choose the file to read into the hdu\n",
      "Press 's' to skip adding this hdu\n",
      "Press 'n' to read the next zip file\n",
      "Press 'e' to end the whole process\n",
      "0: preprocessed_data\\Polarizer_35deg_THz_pulse_InSb_70K.fits\n",
      "Ending the addition of HDU.\n"
     ]
    }
   ],
   "source": [
    "process_data_zip(metadata_filename = 'InSb_project.fits')"
   ]
  },
  {
   "cell_type": "code",
   "execution_count": null,
   "id": "f3c65cce",
   "metadata": {},
   "outputs": [],
   "source": [
    "process_data_zip(zip_path='5_6.zip', metadata_filename = '125deg_InSb_70K.fits',raw_data_dir='raw_data',preprocessed_data_dir='preprocessed_data')"
   ]
  },
  {
   "cell_type": "code",
   "execution_count": 4,
   "id": "e3b72c27",
   "metadata": {},
   "outputs": [
    {
     "name": "stdout",
     "output_type": "stream",
     "text": [
      "Filename: ./InSb_project.fits\n",
      "No.    Name      Ver    Type      Cards   Dimensions   Format\n",
      "  0  PRIMARY       1 PrimaryHDU       4   ()      \n",
      "  1  REF1          1 ImageHDU        24   (11, 500, 6)   float64   \n",
      "  2  SAMPLE1       1 ImageHDU        19   (2, 500, 1)   float64   \n",
      "  3  REF2          1 ImageHDU        19   (26, 500, 1)   float64   \n",
      "  4  SAMPLE2       1 ImageHDU        24   (11, 500, 6)   float64   \n",
      "  5  REF3          1 ImageHDU        24   (11, 500, 6)   float64   \n",
      "  6  SAMPLE3       1 ImageHDU        24   (11, 500, 6)   float64   \n",
      "  7  REF4          1 ImageHDU        19   (2, 500, 1)   float64   \n",
      "  8  SAMPLE4       1 ImageHDU        24   (11, 500, 6)   float64   \n",
      "  9  REF5          1 ImageHDU        24   (11, 500, 6)   float64   \n",
      " 10  SAMPLE5       1 ImageHDU        24   (11, 500, 6)   float64   \n",
      " 11  REF6          1 ImageHDU        19   (2, 500, 1)   float64   \n",
      " 12  SAMPLE6       1 ImageHDU        24   (11, 500, 6)   float64   \n",
      " 13  REF7          1 ImageHDU        24   (11, 500, 6)   float64   \n",
      " 14  SAMPLE7       1 ImageHDU        24   (11, 500, 6)   float64   \n",
      " 15  REF8          1 ImageHDU        24   (11, 500, 6)   float64   \n",
      " 16  SAMPLE8       1 ImageHDU        24   (11, 500, 6)   float64   \n",
      "HDU names: None\n",
      "Header: XTENSION= 'IMAGE   '           / Image extension                                BITPIX  =                  -64 / array data type                                NAXIS   =                    3 / number of array dimensions                     NAXIS1  =                   11                                                  NAXIS2  =                  500                                                  NAXIS3  =                    6                                                  PCOUNT  =                    0 / number of parameters                           GCOUNT  =                    1 / number of groups                               DATE    = '2025_05_05'                                                          AUTHOR  = 'Albert_Wu'                                                           POWER   =                0.434                                                  STEPFS  =                   50                                                  STARTPS =                  -58                                                  DELAYMS =                  500                                                  FILENAME= 'Polarizer_35deg_THz_pulse_InSb_70K'                                  N_BFIELD=                    6                                                  B0      =                  0.0                                                  B1      =                  0.2                                                  B2      =                  0.4                                                  B3      =                  0.6                                                  B4      =                  0.8                                                  B5      =                  1.0                                                  EXTNAME = 'REF1    '           / extension name                                 HDU_TYPE= 'REF1    '                                                            END                                                                                                                                                                                                                                                                                                                                                                                                                                                                                                                                                                                                                                                                                                                                                                                                                                                                                                                                                                                             \n",
      "Data shape: (6, 500, 11)\n"
     ]
    },
    {
     "name": "stderr",
     "output_type": "stream",
     "text": [
      "WARNING: Flush for 'readonly' mode is not supported. [astropy.io.fits.hdu.hdulist]\n"
     ]
    }
   ],
   "source": [
    "from astropy.io import fits\n",
    "import numpy as np\n",
    "with fits.open('./InSb_project.fits') as hdul:\n",
    "    # Print the names of the HDUs in the file\n",
    "    print(\"HDU names:\", hdul.info())\n",
    "    \n",
    "    # Access the data in the first HDU\n",
    "    data = hdul[1].data.copy()\n",
    "    header = hdul[1].header.copy()\n",
    "    print(\"Header:\", header)\n",
    "    print(\"Data shape:\", data.shape)\n",
    "    hdul.flush()\n",
    "\n"
   ]
  },
  {
   "cell_type": "code",
   "execution_count": null,
   "id": "e15524d0",
   "metadata": {},
   "outputs": [],
   "source": [
    "from astropy.io import fits\n",
    "import numpy as np\n",
    "with fits.open('./125deg_InSb_70K.fits') as hdul:\n",
    "    # Print the names of the HDUs in the file\n",
    "    print(\"HDU names:\", hdul.info())\n",
    "    \n",
    "    # Access the data in the first HDU\n",
    "    data = hdul[1].data.copy()\n",
    "    header = hdul[1].header.copy()\n",
    "    print(\"Header:\", header)\n",
    "    print(\"Data shape:\", data.shape)\n"
   ]
  },
  {
   "cell_type": "code",
   "execution_count": null,
   "id": "46cf787b",
   "metadata": {},
   "outputs": [],
   "source": [
    "plot_Efields_from_fits('./Polarizer_35deg_THz_pulse_InSb_70K.fits', title=\"E-field vs Time for Aperture 35deg\")"
   ]
  },
  {
   "cell_type": "code",
   "execution_count": null,
   "id": "262ba939",
   "metadata": {},
   "outputs": [],
   "source": [
    "plot_fft_from_fits(\"Polarizer_35deg_THz_pulse_InSb_70K.fits\", time_range=[-58, -45], plot_time_domain=True)"
   ]
  },
  {
   "cell_type": "code",
   "execution_count": null,
   "id": "892b70ab",
   "metadata": {},
   "outputs": [],
   "source": [
    "from SpectrumAnalysis.SpectrumAnalysis import plot_avg_std_from_fits\n",
    "E_field_avg, E_field_std, fft_avg, fft_std, freqs = plot_avg_std_from_fits('Polarizer_35deg_THz_pulse_InSb_70K.fits', time_range=[-58, -45], B_field=1.0)"
   ]
  },
  {
   "cell_type": "code",
   "execution_count": null,
   "id": "ea9cf7c0",
   "metadata": {},
   "outputs": [],
   "source": [
    "import matplotlib.pyplot as plt\n",
    "import numpy as np\n",
    "plt.scatter((fft_avg), fft_std, label='Signal')\n",
    "plt.xlabel('FFT Amplitude (arb. units)')\n",
    "plt.ylabel('S/N Ratio (arb. units)')\n",
    "plt.title('S/N Ratio vs FFT Amplitude')\n",
    "plt.legend()\n",
    "plt.grid()      \n"
   ]
  },
  {
   "cell_type": "code",
   "execution_count": null,
   "id": "f3a1c672",
   "metadata": {},
   "outputs": [],
   "source": [
    "plt.scatter((freqs), fft_avg/fft_std, label='Signal')\n",
    "plt.xlabel('frequency (THz)')\n",
    "plt.ylabel('S/N Ratio (arb. units)')\n",
    "plt.title('S/N Ratio vs FFT frequency')\n",
    "plt.xlim(0, 2.5)\n",
    "plt.legend()\n",
    "plt.grid()      "
   ]
  },
  {
   "cell_type": "code",
   "execution_count": null,
   "id": "19240bce",
   "metadata": {},
   "outputs": [],
   "source": [
    "plt.plot((freqs), fft_avg, label='Signal')\n",
    "plt.xlabel('frequency (THz)')\n",
    "plt.ylabel('FFT Amplitude (arb. units)')\n",
    "plt.title('FFT Amplitude vs FFT frequency')\n",
    "plt.xlim(0, 2.5)\n",
    "plt.legend()\n",
    "plt.grid()      "
   ]
  },
  {
   "cell_type": "code",
   "execution_count": null,
   "id": "8738519e",
   "metadata": {},
   "outputs": [],
   "source": [
    "from SpectrumAnalysis.SpectrumAnalysis import plot_transmission_spectrum\n",
    "plot_transmission_spectrum('./Polarizer_35deg_Aperture.fits', './Polarizer_35deg_InSb_70K.fits', zero_padding_ratio=4.0, freq_range=[0.1, 2])"
   ]
  },
  {
   "cell_type": "code",
   "execution_count": null,
   "id": "59a2880d",
   "metadata": {},
   "outputs": [],
   "source": [
    "from SpectrumAnalysis.SpectrumAnalysis import add_data_value, subtract_data_value\n",
    "add_data_value('Polarizer_35deg_InSb_70K.fits','Polarizer_125deg_InSb_70K.fits', 'Ex_InSb_70K.fits')\n",
    "subtract_data_value('Polarizer_35deg_InSb_70K.fits','Polarizer_125deg_InSb_70K.fits', 'Ey_InSb_70K.fits')"
   ]
  },
  {
   "cell_type": "code",
   "execution_count": null,
   "id": "dcfb925f",
   "metadata": {},
   "outputs": [],
   "source": [
    "from SpectrumAnalysis.SpectrumAnalysis import rotate_angle_vs_major_axis\n",
    "rotate_angle_vs_major_axis(Ex_fits = 'Ex_InSb_70K.fits' , Ey_fits= 'Ey_InSb_70K.fits', angle_in_deg = 80, output_path_major = 'Ex_major_InSb_70K.fits', output_path_minor = 'Ey_minor_InSb_70K.fits')"
   ]
  },
  {
   "cell_type": "code",
   "execution_count": null,
   "id": "d525a0e2",
   "metadata": {},
   "outputs": [],
   "source": [
    "plot_fft_from_fits(\"Ex_major_InSb_70K.fits\", zero_padding_ratio=2.0, plot_time_domain=True, title = \"Ex FFT\")\n",
    "plot_fft_from_fits(\"Ey_minor_InSb_70K.fits\", zero_padding_ratio=2.0, plot_time_domain=True, title = \"Ey FFT\")"
   ]
  }
 ],
 "metadata": {
  "kernelspec": {
   "display_name": "Python 3",
   "language": "python",
   "name": "python3"
  },
  "language_info": {
   "codemirror_mode": {
    "name": "ipython",
    "version": 3
   },
   "file_extension": ".py",
   "mimetype": "text/x-python",
   "name": "python",
   "nbconvert_exporter": "python",
   "pygments_lexer": "ipython3",
   "version": "3.11.9"
  }
 },
 "nbformat": 4,
 "nbformat_minor": 5
}
